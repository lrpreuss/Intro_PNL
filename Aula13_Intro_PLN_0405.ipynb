{
  "nbformat": 4,
  "nbformat_minor": 0,
  "metadata": {
    "colab": {
      "provenance": [],
      "mount_file_id": "1xbq2620sQuOXPMpbz_wxr4s_VbwixTrX",
      "authorship_tag": "ABX9TyPkafcwuA6YEMkq7pDqhCP+",
      "include_colab_link": true
    },
    "kernelspec": {
      "name": "python3",
      "display_name": "Python 3"
    },
    "language_info": {
      "name": "python"
    }
  },
  "cells": [
    {
      "cell_type": "markdown",
      "metadata": {
        "id": "view-in-github",
        "colab_type": "text"
      },
      "source": [
        "<a href=\"https://colab.research.google.com/github/lrpreuss/Intro_PNL/blob/main/Aula13_Intro_PLN_0405.ipynb\" target=\"_parent\"><img src=\"https://colab.research.google.com/assets/colab-badge.svg\" alt=\"Open In Colab\"/></a>"
      ]
    },
    {
      "cell_type": "markdown",
      "source": [
        "# Conteúdo do dia\n",
        "\n",
        "* Processamento de linguagem natural\n",
        "\n",
        "~ recepção (converte texto em valor numérico, para linguagem de máquina) // inclui pré-processamento, com uma espécie de limpeza daquilo que não tem conteúdo semântico (\"a\", \"o, \"que\", pontuação, etc) = converte texto em blocos de palavras chamados **tokens**, que serão vetorizados (transformado em número para a máquina, visto de forma bem simplificada no exercício).\n",
        "\n",
        "~ geração (de linguagem de máquina para linguagem humana - GPT)"
      ],
      "metadata": {
        "id": "ldxqhxdzekC2"
      }
    },
    {
      "cell_type": "code",
      "source": [
        "#criar uma função para fazer a abertura e leitura do arquivo\n",
        "def ler(nome_arquivo):\n",
        "  arquivo = open(nome_arquivo, 'r', encoding='utf-8')\n",
        "  conteudo_arq = arquivo.read()\n",
        "  arquivo.close()\n",
        "  return conteudo_arq"
      ],
      "metadata": {
        "id": "ZD7fvMCSBo4F"
      },
      "execution_count": null,
      "outputs": []
    },
    {
      "cell_type": "code",
      "source": [
        "texto = ler('/content/drive/MyDrive/FATEC/Linguagem de Programação 1/Ubirajara.txt')\n",
        "print(len(texto))"
      ],
      "metadata": {
        "colab": {
          "base_uri": "https://localhost:8080/"
        },
        "id": "jOpehPCWBpSd",
        "outputId": "006a5be4-8d90-49de-860c-c46684e0ede9"
      },
      "execution_count": null,
      "outputs": [
        {
          "output_type": "stream",
          "name": "stdout",
          "text": [
            "219835\n"
          ]
        }
      ]
    },
    {
      "cell_type": "code",
      "source": [
        "'''\n",
        "caminho absoluto = dita o caminho inteiro do arquivo, e o script vai puxar\n",
        "o caminho inteiro de onde quer que esteja.\n",
        "caminho relativo: considera que o arquivo está na mesma pasta do projeto\n",
        "do script. Se digita menos texto, mas caso o script fique salvo em outro lugar, pode\n",
        "não encontrar o arquivo.\n",
        "'''"
      ],
      "metadata": {
        "id": "i5Ua3udERyVm",
        "colab": {
          "base_uri": "https://localhost:8080/",
          "height": 53
        },
        "outputId": "dfe142a4-2e2d-4d87-b46e-bde48fdbaa1b"
      },
      "execution_count": null,
      "outputs": [
        {
          "output_type": "execute_result",
          "data": {
            "text/plain": [
              "'\\ncaminho absoluto = dita o caminho inteiro do arquivo, e o script vai puxar\\no caminho inteiro de onde quer que esteja.\\ncaminho relativo: considera que o arquivo está na mesma pasta do projeto\\ndo script. Se digita menos texto, mas caso o script fique salvo em outro lugar, pode\\nnão encontrar o arquivo.\\n'"
            ],
            "application/vnd.google.colaboratory.intrinsic+json": {
              "type": "string"
            }
          },
          "metadata": {},
          "execution_count": 35
        }
      ]
    },
    {
      "cell_type": "code",
      "source": [
        "caminho_arquivo = ('/content/drive/MyDrive/FATEC/Linguagem de Programação 1/Ubirajara.txt')\n",
        "\n",
        "try:\n",
        "  with open(caminho_arquivo, 'r', encoding = 'utf-8') as arquivo:\n",
        "    print(f\"\\nPrimeiras 5 linhas do arquivo '{caminho_arquivo.split('/')[-1]}':\")\n",
        "    for i, linha in enumerate(arquivo):\n",
        "      print(linha.strip())\n",
        "      if i == 5: #mostra duas linhas\n",
        "        break\n",
        "\n",
        "except FileNotFoundError:\n",
        "  print(f\"\\nERRO: O arquivo não foi encontrado no caminho especificado: {caminho_arquivo}\")\n",
        "  print(\"Por favor, verifique se o caminho e o nome do arquivo estão corretos e se você montou seu Google Drive no Colab (se aplicável).\")\n",
        "except Exception as e:\n",
        "  print(f\"\\nOcorreu um erro ao carregar o arquivo: {e}\")"
      ],
      "metadata": {
        "colab": {
          "base_uri": "https://localhost:8080/"
        },
        "id": "56ew7h0MC5mE",
        "outputId": "64d73e85-2332-4c10-c621-4b279f395d50"
      },
      "execution_count": null,
      "outputs": [
        {
          "output_type": "stream",
          "name": "stdout",
          "text": [
            "\n",
            "Primeiras 5 linhas do arquivo 'Ubirajara.txt':\n",
            "﻿The Project Gutenberg eBook of Ubirajara: Lenda Tupi\n",
            "\n",
            "This ebook is for the use of anyone anywhere in the United States and\n",
            "most other parts of the world at no cost and with almost no restrictions\n",
            "whatsoever. You may copy it, give it away or re-use it under the terms\n",
            "of the Project Gutenberg License included with this ebook or online\n"
          ]
        }
      ]
    },
    {
      "cell_type": "code",
      "source": [
        "def buscador(alvo, texto):\n",
        "  texto = texto.replace('\\n', ' ')\n",
        "  texto = texto.replace('\\t', ' ')\n",
        "\n",
        "  ocorrencias = []\n",
        "\n",
        "  encontrado_aqui = texto.find(alvo, 0)\n",
        "    #se encontra a palavra, informa a posição\n",
        "    #se não encontrar, informa -1\n",
        "\n",
        "  while encontrado_aqui > 0:\n",
        "    pos_inicial = encontrado_aqui - (40 - len(alvo))\n",
        "    trecho = texto[pos_inicial: pos_inicial + 80]\n",
        "\n",
        "    ocorrencias.append(trecho)\n",
        "\n",
        "    encontrado_aqui = texto.find(alvo, encontrado_aqui + 1)\n",
        "\n",
        "    #inicia a busca a partir da posição anterior + 1\n",
        "    #Se encontra a palavra, informa a posição\n",
        "    #Se não encontrar, informa -1\n",
        "\n",
        "  return ocorrencias"
      ],
      "metadata": {
        "id": "6Q5HGhj-C650"
      },
      "execution_count": null,
      "outputs": []
    },
    {
      "cell_type": "code",
      "source": [
        "resultados = buscador('peito', texto)\n",
        "\n",
        "for trecho in resultados:\n",
        "  print(trecho)"
      ],
      "metadata": {
        "colab": {
          "base_uri": "https://localhost:8080/"
        },
        "id": "QrB2NEJCD9KU",
        "outputId": "2a855bf6-74f9-4b6e-df98-aa989038fc8f"
      },
      "execution_count": null,
      "outputs": [
        {
          "output_type": "stream",
          "name": "stdout",
          "text": [
            "i o chefe tocantim quem recebeu no peito a ponta farpada.  Quando o corpo robust\n",
            " se tua arma traiçoeira me feriu o peito, o suplicio não vencerá a constancia do\n",
            "java falar; todos escutaram com respeito o heróe, ainda maior na desgraça.  --Gu\n",
            "ança, escrava de Jaguarê, cravou o peito do inimigo.  «Elle caiu, o guerreiro ch\n",
            "O labio de Jandira emudeceu; mas o peito soluçou.  A virjem conheceu que o amor \n",
            " todos dignos de teu valor. Nestes peitos, que te pertencem, ella os nutrirá com\n",
            "ndos que os botões do cardo por um peito feroz, e as mãos lijeiras que tecem os \n",
            " o acolher, todos o escutam com respeito.  «Em suas palavras prudentes, os anciã\n",
            "não quando elle não chupa mais seu peito. Ella é como a mangabeira; nutre o frut\n",
            "ente do Xingú.  As arvores que seu peito encontrava caíam lascadas.  Jurandir es\n",
            "e. Os noivos cuidavam que era a do peito do tucano; mas ella sabia que era do pe\n",
            " tucano; mas ella sabia que era do peito da arára e que tinha as côres de seu gu\n",
            "os arredores. Nada encontrou de suspeito; o rasto, que o inquietava, não chegára\n",
            "amor, e quando o leite encher seus peitos mimozos, para que ella suspenda ao col\n",
            " O grande chefe vergou a cabeça ao peito, como o cedro altaneiro batido pelo tuf\n",
            "re a cabeça de Arací:  --Itaquê respeitou a lei de hospitalidade no corpo de Ubi\n",
            "as o grito de espanto sossobrou no peito dos guerreiros, e rompeu em um grito de\n",
            "o velho guerreiro sossobrou-lhe no peito:  --O arco de Itaquê é como o gavião qu\n",
            "s do guerreiro quando se cruzam ao peito para exprimir a amizade.  Ubirajara apa\n",
            "eu guerreiro.  Ubirajara cinjiu ao peito com um e outro braço, a espoza e a virj\n",
            "336.  Póde-se ler tambem a este respeito o que diz Gabriel Soares, cit. no cap. \n",
            "abriel Soares se exprime a este respeito no cap. 152: «E como o marido lhe leva \n",
            "ilizada se observa tão profundo respeito pela união conjugal, a ponto de não con\n",
            ". VIII, que a liga vermelha e o respeito que ella inspirava indicassem guarda da\n",
            " como sua extensão, dependia do respeito que elle conseguia infundir a seus guer\n",
            "quelles sacerdotes, cercados do respeito dos guerreiros, fortes pelo prestijio d\n",
            "lações do seu culto.  Tal era o respeito que o selvajem professava pela dignidad\n",
            "sseio. Ives d'Evreux diz a este respeito: «Ils sont fort soigneux de tenir leur \n",
            "vel e _nheng_ falar.--Veja-se a respeito dos cantores, _nhengara_, o que se diss\n"
          ]
        }
      ]
    },
    {
      "cell_type": "code",
      "source": [
        "'''\n",
        "desafio case insensitive:\n",
        "se o código considerar os case-sensitive, vai deixar de avaliar todos os contextos possíveis com um termo.\n",
        "É possível deixar passar informações importantes por causa das letras maiúsculas e minúsculas como em início\n",
        " de parágrafos, então para pegar todas as vezes que o termo aparece, é melhor ignorar maiúsculas e minúsulas.\n",
        "\n",
        "'''"
      ],
      "metadata": {
        "id": "5pfTZAOyEHV0"
      },
      "execution_count": null,
      "outputs": []
    },
    {
      "cell_type": "code",
      "source": [
        "#desafio contagem de ocorrencias\n",
        "\n",
        "def buscador(alvo, texto):\n",
        "  texto = texto.replace('\\n', ' ')\n",
        "  texto = texto.replace('\\t', ' ')\n",
        "\n",
        "  ocorrencias = []\n",
        "  contador = 0 #com contador\n",
        "  posicao = 0\n",
        "\n",
        "  encontrado_aqui = texto.find(alvo, posicao)\n",
        "\n",
        "  while encontrado_aqui != -1:\n",
        "\n",
        "    contador += 1 #para contar certo os loops\n",
        "\n",
        "    pos_inicial = encontrado_aqui - (40 - len(alvo))\n",
        "    trecho = texto[pos_inicial: pos_inicial + 80]\n",
        "\n",
        "    ocorrencias.append(trecho)\n",
        "\n",
        "    posicao = encontrado_aqui + 1 #conta e prepara próximo loop\n",
        "    encontrado_aqui = texto.find(alvo, encontrado_aqui + 1)\n",
        "\n",
        "  return {\n",
        "       'total': contador,\n",
        "       'ocorrencias': ocorrencias,\n",
        "       'trechos': ocorrencias\n",
        "       }\n",
        "\n",
        "resultados = buscador('peito', texto)\n",
        "\n",
        "print(f\"Total de ocorrências: {resultados['total']}\")\n",
        "print(\"\\nTrechos encontrados:\")\n",
        "for i, trecho in enumerate(resultados['trechos'], 1):\n",
        "    print(f\"\\nOcorrência {i}:\")\n",
        "    print(trecho)"
      ],
      "metadata": {
        "colab": {
          "base_uri": "https://localhost:8080/"
        },
        "id": "S5KdMgMoEJJs",
        "outputId": "d1f05a4d-3afb-477f-fd7d-67c4263dcff3"
      },
      "execution_count": null,
      "outputs": [
        {
          "output_type": "stream",
          "name": "stdout",
          "text": [
            "Total de ocorrências: 29\n",
            "\n",
            "Trechos encontrados:\n",
            "\n",
            "Ocorrência 1:\n",
            "i o chefe tocantim quem recebeu no peito a ponta farpada.  Quando o corpo robust\n",
            "\n",
            "Ocorrência 2:\n",
            " se tua arma traiçoeira me feriu o peito, o suplicio não vencerá a constancia do\n",
            "\n",
            "Ocorrência 3:\n",
            "java falar; todos escutaram com respeito o heróe, ainda maior na desgraça.  --Gu\n",
            "\n",
            "Ocorrência 4:\n",
            "ança, escrava de Jaguarê, cravou o peito do inimigo.  «Elle caiu, o guerreiro ch\n",
            "\n",
            "Ocorrência 5:\n",
            "O labio de Jandira emudeceu; mas o peito soluçou.  A virjem conheceu que o amor \n",
            "\n",
            "Ocorrência 6:\n",
            " todos dignos de teu valor. Nestes peitos, que te pertencem, ella os nutrirá com\n",
            "\n",
            "Ocorrência 7:\n",
            "ndos que os botões do cardo por um peito feroz, e as mãos lijeiras que tecem os \n",
            "\n",
            "Ocorrência 8:\n",
            " o acolher, todos o escutam com respeito.  «Em suas palavras prudentes, os anciã\n",
            "\n",
            "Ocorrência 9:\n",
            "não quando elle não chupa mais seu peito. Ella é como a mangabeira; nutre o frut\n",
            "\n",
            "Ocorrência 10:\n",
            "ente do Xingú.  As arvores que seu peito encontrava caíam lascadas.  Jurandir es\n",
            "\n",
            "Ocorrência 11:\n",
            "e. Os noivos cuidavam que era a do peito do tucano; mas ella sabia que era do pe\n",
            "\n",
            "Ocorrência 12:\n",
            " tucano; mas ella sabia que era do peito da arára e que tinha as côres de seu gu\n",
            "\n",
            "Ocorrência 13:\n",
            "os arredores. Nada encontrou de suspeito; o rasto, que o inquietava, não chegára\n",
            "\n",
            "Ocorrência 14:\n",
            "amor, e quando o leite encher seus peitos mimozos, para que ella suspenda ao col\n",
            "\n",
            "Ocorrência 15:\n",
            " O grande chefe vergou a cabeça ao peito, como o cedro altaneiro batido pelo tuf\n",
            "\n",
            "Ocorrência 16:\n",
            "re a cabeça de Arací:  --Itaquê respeitou a lei de hospitalidade no corpo de Ubi\n",
            "\n",
            "Ocorrência 17:\n",
            "as o grito de espanto sossobrou no peito dos guerreiros, e rompeu em um grito de\n",
            "\n",
            "Ocorrência 18:\n",
            "o velho guerreiro sossobrou-lhe no peito:  --O arco de Itaquê é como o gavião qu\n",
            "\n",
            "Ocorrência 19:\n",
            "s do guerreiro quando se cruzam ao peito para exprimir a amizade.  Ubirajara apa\n",
            "\n",
            "Ocorrência 20:\n",
            "eu guerreiro.  Ubirajara cinjiu ao peito com um e outro braço, a espoza e a virj\n",
            "\n",
            "Ocorrência 21:\n",
            "336.  Póde-se ler tambem a este respeito o que diz Gabriel Soares, cit. no cap. \n",
            "\n",
            "Ocorrência 22:\n",
            "abriel Soares se exprime a este respeito no cap. 152: «E como o marido lhe leva \n",
            "\n",
            "Ocorrência 23:\n",
            "ilizada se observa tão profundo respeito pela união conjugal, a ponto de não con\n",
            "\n",
            "Ocorrência 24:\n",
            ". VIII, que a liga vermelha e o respeito que ella inspirava indicassem guarda da\n",
            "\n",
            "Ocorrência 25:\n",
            " como sua extensão, dependia do respeito que elle conseguia infundir a seus guer\n",
            "\n",
            "Ocorrência 26:\n",
            "quelles sacerdotes, cercados do respeito dos guerreiros, fortes pelo prestijio d\n",
            "\n",
            "Ocorrência 27:\n",
            "lações do seu culto.  Tal era o respeito que o selvajem professava pela dignidad\n",
            "\n",
            "Ocorrência 28:\n",
            "sseio. Ives d'Evreux diz a este respeito: «Ils sont fort soigneux de tenir leur \n",
            "\n",
            "Ocorrência 29:\n",
            "vel e _nheng_ falar.--Veja-se a respeito dos cantores, _nhengara_, o que se diss\n"
          ]
        }
      ]
    },
    {
      "cell_type": "code",
      "source": [
        "palavras = texto.split()"
      ],
      "metadata": {
        "id": "I_plb5fpFtcb"
      },
      "execution_count": null,
      "outputs": []
    },
    {
      "cell_type": "code",
      "source": [
        "def limpar(lista):\n",
        "  lixo = '.,:;?!\"´`^~()[]{}/\\|@#$%¨&*-'\n",
        "  quase_limpo = [x.strip(lixo).lower() for x in lista]\n",
        "  return [x for x in quase_limpo if x.isalpha() or '-' not in x]"
      ],
      "metadata": {
        "id": "GTbuv-D7HY8a"
      },
      "execution_count": null,
      "outputs": []
    },
    {
      "cell_type": "code",
      "source": [
        "teste = \"Corre-se atrás do carro, corre se o carro for embora.\"\n",
        "word = teste.split()\n",
        "print(word)"
      ],
      "metadata": {
        "id": "kWQ7fZ66HZQq",
        "colab": {
          "base_uri": "https://localhost:8080/"
        },
        "outputId": "96cde276-7916-4cae-de6d-24e92633bab9"
      },
      "execution_count": null,
      "outputs": [
        {
          "output_type": "stream",
          "name": "stdout",
          "text": [
            "['Corre-se', 'atrás', 'do', 'carro,', 'corre', 'se', 'o', 'carro', 'for', 'embora.']\n"
          ]
        }
      ]
    },
    {
      "cell_type": "code",
      "source": [
        "print(limpar(word))"
      ],
      "metadata": {
        "id": "5ckjI05tHZfC",
        "colab": {
          "base_uri": "https://localhost:8080/"
        },
        "outputId": "c86b556a-30d1-4b59-d0fa-8eb239850b65"
      },
      "execution_count": null,
      "outputs": [
        {
          "output_type": "stream",
          "name": "stdout",
          "text": [
            "['atrás', 'do', 'carro', 'corre', 'se', 'o', 'carro', 'for', 'embora']\n"
          ]
        }
      ]
    },
    {
      "cell_type": "code",
      "source": [
        "print(len(palavras))\n",
        "palavras = limpar(palavras)\n",
        "print(len(palavras))"
      ],
      "metadata": {
        "id": "4FRiO17eIKd6",
        "colab": {
          "base_uri": "https://localhost:8080/"
        },
        "outputId": "3c8e3f7a-63c5-42a7-dea4-d2e4d779f538"
      },
      "execution_count": null,
      "outputs": [
        {
          "output_type": "stream",
          "name": "stdout",
          "text": [
            "10\n",
            "9\n"
          ]
        }
      ]
    },
    {
      "cell_type": "code",
      "source": [
        "# Desafio Refinar a Limpeza de Pontuação\n",
        "\n",
        "def limpar(lista):\n",
        "  lixo = '.,:;?!\"´`^~()[]{}/\\|@#$%¨&*-'\n",
        "  limpo = []\n",
        "\n",
        "  for palavra in lista:\n",
        "    palavra_limpa = ''.join([char for char in palavra if char not in lixo])\n",
        "    palavra_limpa = palavra_limpa.lower()\n",
        "\n",
        "    if palavra_limpa:\n",
        "      limpo.append(palavra_limpa)\n",
        "\n",
        "  return limpo"
      ],
      "metadata": {
        "id": "oq9rtEzEfWRf"
      },
      "execution_count": null,
      "outputs": []
    },
    {
      "cell_type": "code",
      "source": [
        "#Desafio 2.\tRemoção de Números\n",
        "\n",
        "def limpar(lista):\n",
        "    lixo = '.,:;?!\"´`^~()[]{}/\\|@#$%¨&*-'\n",
        "    limpo = []\n",
        "\n",
        "    for palavra in lista:\n",
        "        # Remove números e mantém apenas letras (incluindo acentuadas)\n",
        "        palavra_limpa = ''.join([char for char in palavra if char.isalpha()])\n",
        "        palavra_limpa = palavra_limpa.lower()\n",
        "\n",
        "        if palavra_limpa:  # Só adiciona se não estiver vazia\n",
        "            limpo.append(palavra_limpa)\n",
        "\n",
        "    return limpo"
      ],
      "metadata": {
        "id": "wArb23lvfWHw"
      },
      "execution_count": null,
      "outputs": []
    },
    {
      "cell_type": "code",
      "source": [
        "teste = \"Corre-se, atrás! do ca.rro? 'corre' se o 1carro for embo5ra...\"\n",
        "palavras = teste.split()\n",
        "print(\"Antes:\", palavras)\n",
        "print(\"Depois:\", limpar(palavras))"
      ],
      "metadata": {
        "colab": {
          "base_uri": "https://localhost:8080/"
        },
        "id": "hoUZemCyhJRA",
        "outputId": "9d7dfa88-18f4-42b4-8604-13c0c97fdade"
      },
      "execution_count": null,
      "outputs": [
        {
          "output_type": "stream",
          "name": "stdout",
          "text": [
            "Antes: ['Corre-se,', 'atrás!', 'do', 'ca.rro?', \"'corre'\", 'se', 'o', '1carro', 'for', 'embo5ra...']\n",
            "Depois: ['correse', 'atrás', 'do', 'carro', 'corre', 'se', 'o', 'carro', 'for', 'embora']\n"
          ]
        }
      ]
    },
    {
      "cell_type": "code",
      "source": [
        "#Conhecer a quantidade de palavras e vocabulário\n",
        "vocabulario = set(palavras)\n",
        "len(vocabulario)"
      ],
      "metadata": {
        "id": "4cMhfg1RIKVK",
        "colab": {
          "base_uri": "https://localhost:8080/"
        },
        "outputId": "d43a6ffc-2ce9-42e4-dbb8-2731aac5b769"
      },
      "execution_count": null,
      "outputs": [
        {
          "output_type": "execute_result",
          "data": {
            "text/plain": [
              "10"
            ]
          },
          "metadata": {},
          "execution_count": 54
        }
      ]
    },
    {
      "cell_type": "code",
      "source": [
        "#calculando a riqueza textual do corpus\n",
        "riqueza = len(vocabulario)/len(palavras) # 6902/ 36585\n",
        "riqueza"
      ],
      "metadata": {
        "id": "IkDGC5UuIKL8",
        "colab": {
          "base_uri": "https://localhost:8080/"
        },
        "outputId": "d11969d3-3e23-4c4b-aac9-b714b9eeac2a"
      },
      "execution_count": null,
      "outputs": [
        {
          "output_type": "execute_result",
          "data": {
            "text/plain": [
              "0.4"
            ]
          },
          "metadata": {},
          "execution_count": 51
        }
      ]
    },
    {
      "cell_type": "code",
      "source": [
        "# Criar um dicionário deste texto\n",
        "from collections import defaultdict\n",
        "\n",
        "def ocorrencias(lista_palavras):\n",
        "  dicionario = defaultdict(int)\n",
        "  for p in lista_palavras:\n",
        "    dicionario[p] += 1\n",
        "\n",
        "  return dicionario"
      ],
      "metadata": {
        "id": "K5LDRMAWJP7K"
      },
      "execution_count": null,
      "outputs": []
    },
    {
      "cell_type": "code",
      "source": [
        "dic = ocorrencias(palavras)\n",
        "mf = sorted(dic.items(), key=lambda tupla:tupla[1], reverse=True)[:50]\n",
        "for palavra, n in mf:\n",
        "  print(palavra, '\\t',n)"
      ],
      "metadata": {
        "id": "cHihfLyDJQdB",
        "colab": {
          "base_uri": "https://localhost:8080/"
        },
        "outputId": "d23942c7-309a-490d-c02f-aa1cd27e65e1"
      },
      "execution_count": null,
      "outputs": [
        {
          "output_type": "stream",
          "name": "stdout",
          "text": [
            "Corre-se, \t 1\n",
            "atrás! \t 1\n",
            "do \t 1\n",
            "ca.rro? \t 1\n",
            "'corre' \t 1\n",
            "se \t 1\n",
            "o \t 1\n",
            "1carro \t 1\n",
            "for \t 1\n",
            "embo5ra... \t 1\n"
          ]
        }
      ]
    },
    {
      "cell_type": "code",
      "source": [
        "#lista= [0, 1, 2] consegue alterar\n",
        "#dic={rot; valor} rótulo e valor\n",
        "#tupla=([0],[1]) não altera"
      ],
      "metadata": {
        "id": "op1CYfm5JQXh"
      },
      "execution_count": null,
      "outputs": []
    },
    {
      "cell_type": "code",
      "source": [
        "import nltk\n",
        "nltk.download('stopwords')\n",
        "vazias = nltk.corpus.stopwords.words('portuguese')"
      ],
      "metadata": {
        "id": "jtFWpb5FJQQR",
        "colab": {
          "base_uri": "https://localhost:8080/"
        },
        "outputId": "80588853-f93d-4d9a-f9fb-5218b7283afe"
      },
      "execution_count": null,
      "outputs": [
        {
          "output_type": "stream",
          "name": "stderr",
          "text": [
            "[nltk_data] Downloading package stopwords to /root/nltk_data...\n",
            "[nltk_data]   Package stopwords is already up-to-date!\n"
          ]
        }
      ]
    },
    {
      "cell_type": "code",
      "source": [
        "frequentes_plenas = [x for x in mf if x[0].lower() not in vazias]\n",
        "frequentes_plenas"
      ],
      "metadata": {
        "id": "qYlp0wl2KRsZ",
        "colab": {
          "base_uri": "https://localhost:8080/"
        },
        "outputId": "3fb28d9a-2994-4dc9-ca73-ebfcb5c073c0"
      },
      "execution_count": null,
      "outputs": [
        {
          "output_type": "execute_result",
          "data": {
            "text/plain": [
              "[('Corre-se,', 1),\n",
              " ('atrás!', 1),\n",
              " ('ca.rro?', 1),\n",
              " (\"'corre'\", 1),\n",
              " ('1carro', 1),\n",
              " ('embo5ra...', 1)]"
            ]
          },
          "metadata": {},
          "execution_count": 32
        }
      ]
    }
  ]
}